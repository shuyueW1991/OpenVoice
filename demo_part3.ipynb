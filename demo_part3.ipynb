{
 "cells": [
  {
   "cell_type": "markdown",
   "metadata": {},
   "source": [
    "## Multi-Accent and Multi-Lingual Voice Clone Demo with MeloTTS"
   ]
  },
  {
   "cell_type": "code",
   "execution_count": 6,
   "metadata": {},
   "outputs": [],
   "source": [
    "import os\n",
    "import torch\n",
    "from openvoice import se_extractor\n",
    "from openvoice.api import ToneColorConverter"
   ]
  },
  {
   "cell_type": "markdown",
   "metadata": {},
   "source": [
    "### Initialization\n",
    "\n",
    "In this example, we will use the checkpoints from OpenVoiceV2. OpenVoiceV2 is trained with more aggressive augmentations and thus demonstrate better robustness in some cases."
   ]
  },
  {
   "cell_type": "code",
   "execution_count": 7,
   "metadata": {},
   "outputs": [
    {
     "name": "stdout",
     "output_type": "stream",
     "text": [
      "Loaded checkpoint 'checkpoints_v2/converter/checkpoint.pth'\n",
      "missing/unexpected keys: [] []\n"
     ]
    }
   ],
   "source": [
    "ckpt_converter = 'checkpoints_v2/converter'\n",
    "device = \"cuda:0\" if torch.cuda.is_available() else \"cpu\"\n",
    "output_dir = 'outputs_v2'\n",
    "\n",
    "tone_color_converter = ToneColorConverter(f'{ckpt_converter}/config.json', device=device)\n",
    "tone_color_converter.load_ckpt(f'{ckpt_converter}/checkpoint.pth')\n",
    "\n",
    "os.makedirs(output_dir, exist_ok=True)"
   ]
  },
  {
   "cell_type": "markdown",
   "metadata": {},
   "source": [
    "### Obtain Tone Color Embedding\n",
    "We only extract the tone color embedding for the target speaker. The source tone color embeddings can be directly loaded from `checkpoints_v2/ses` folder."
   ]
  },
  {
   "cell_type": "code",
   "execution_count": 8,
   "metadata": {},
   "outputs": [
    {
     "name": "stdout",
     "output_type": "stream",
     "text": [
      "OpenVoice version: v2\n",
      "huggingface/tokenizers: The current process just got forked, after parallelism has already been used. Disabling parallelism to avoid deadlocks...\n",
      "To disable this warning, you can either:\n",
      "\t- Avoid using `tokenizers` before the fork if possible\n",
      "\t- Explicitly set the environment variable TOKENIZERS_PARALLELISM=(true | false)\n",
      "[(0.0, 58.8188125)]\n",
      "huggingface/tokenizers: The current process just got forked, after parallelism has already been used. Disabling parallelism to avoid deadlocks...\n",
      "To disable this warning, you can either:\n",
      "\t- Avoid using `tokenizers` before the fork if possible\n",
      "\t- Explicitly set the environment variable TOKENIZERS_PARALLELISM=(true | false)\n",
      "huggingface/tokenizers: The current process just got forked, after parallelism has already been used. Disabling parallelism to avoid deadlocks...\n",
      "To disable this warning, you can either:\n",
      "\t- Avoid using `tokenizers` before the fork if possible\n",
      "\t- Explicitly set the environment variable TOKENIZERS_PARALLELISM=(true | false)\n",
      "after vad: dur = 58.81798185941043\n"
     ]
    }
   ],
   "source": [
    "\n",
    "reference_speaker = 'resources/example_reference.mp3' # This is the voice you want to clone\n",
    "target_se, audio_name = se_extractor.get_se(reference_speaker, tone_color_converter, vad=True)"
   ]
  },
  {
   "cell_type": "markdown",
   "metadata": {},
   "source": [
    "#### Use MeloTTS as Base Speakers\n",
    "\n",
    "MeloTTS is a high-quality multi-lingual text-to-speech library by @MyShell.ai, supporting languages including English (American, British, Indian, Australian, Default), Spanish, French, Chinese, Japanese, Korean. In the following example, we will use the models in MeloTTS as the base speakers. "
   ]
  },
  {
   "cell_type": "code",
   "execution_count": 9,
   "metadata": {},
   "outputs": [
    {
     "name": "stderr",
     "output_type": "stream",
     "text": [
      "/Users/shuyuew/miniforge3/envs/openvoice/lib/python3.9/site-packages/torch/nn/utils/weight_norm.py:144: FutureWarning: `torch.nn.utils.weight_norm` is deprecated in favor of `torch.nn.utils.parametrizations.weight_norm`.\n",
      "  WeightNorm.apply(module, name, dim)\n"
     ]
    },
    {
     "name": "stdout",
     "output_type": "stream",
     "text": [
      " > Text split to sentences.\n",
      "Did you ever hear a folk tale about a giant turtle?\n",
      " > ===========================\n"
     ]
    },
    {
     "name": "stderr",
     "output_type": "stream",
     "text": [
      "Downloading pytorch_model.bin: 100%|██████████| 440M/440M [00:42<00:00, 10.3MB/s]\n",
      "Some weights of the model checkpoint at bert-base-uncased were not used when initializing BertForMaskedLM: ['cls.seq_relationship.bias', 'cls.seq_relationship.weight']\n",
      "- This IS expected if you are initializing BertForMaskedLM from the checkpoint of a model trained on another task or with another architecture (e.g. initializing a BertForSequenceClassification model from a BertForPreTraining model).\n",
      "- This IS NOT expected if you are initializing BertForMaskedLM from the checkpoint of a model that you expect to be exactly identical (initializing a BertForSequenceClassification model from a BertForSequenceClassification model).\n",
      "100%|██████████| 1/1 [00:47<00:00, 47.03s/it]\n",
      "Downloading config.json: 3.49kB [00:00, 12.2MB/s]\n",
      "Downloading checkpoint.pth: 100%|██████████| 208M/208M [00:22<00:00, 9.40MB/s] \n"
     ]
    },
    {
     "name": "stdout",
     "output_type": "stream",
     "text": [
      " > Text split to sentences.\n",
      "Did you ever hear a folk tale about a giant turtle?\n",
      " > ===========================\n"
     ]
    },
    {
     "name": "stderr",
     "output_type": "stream",
     "text": [
      "100%|██████████| 1/1 [00:01<00:00,  1.18s/it]\n"
     ]
    },
    {
     "name": "stdout",
     "output_type": "stream",
     "text": [
      " > Text split to sentences.\n",
      "Did you ever hear a folk tale about a giant turtle?\n",
      " > ===========================\n"
     ]
    },
    {
     "name": "stderr",
     "output_type": "stream",
     "text": [
      "100%|██████████| 1/1 [00:01<00:00,  1.06s/it]\n"
     ]
    },
    {
     "name": "stdout",
     "output_type": "stream",
     "text": [
      " > Text split to sentences.\n",
      "Did you ever hear a folk tale about a giant turtle?\n",
      " > ===========================\n"
     ]
    },
    {
     "name": "stderr",
     "output_type": "stream",
     "text": [
      "100%|██████████| 1/1 [00:01<00:00,  1.18s/it]\n"
     ]
    },
    {
     "name": "stdout",
     "output_type": "stream",
     "text": [
      " > Text split to sentences.\n",
      "Did you ever hear a folk tale about a giant turtle?\n",
      " > ===========================\n"
     ]
    },
    {
     "name": "stderr",
     "output_type": "stream",
     "text": [
      "100%|██████████| 1/1 [00:01<00:00,  1.25s/it]\n"
     ]
    },
    {
     "name": "stdout",
     "output_type": "stream",
     "text": [
      " > Text split to sentences.\n",
      "Did you ever hear a folk tale about a giant turtle?\n",
      " > ===========================\n"
     ]
    },
    {
     "name": "stderr",
     "output_type": "stream",
     "text": [
      "100%|██████████| 1/1 [00:00<00:00,  1.16it/s]\n",
      "Downloading config.json: 3.43kB [00:00, 8.02MB/s]\n",
      "Downloading checkpoint.pth: 100%|██████████| 208M/208M [00:19<00:00, 10.4MB/s] \n"
     ]
    },
    {
     "name": "stdout",
     "output_type": "stream",
     "text": [
      " > Text split to sentences.\n",
      "El resplandor del sol acaricia las olas, pintando el cielo con una paleta deslumbrante.\n",
      " > ===========================\n"
     ]
    },
    {
     "name": "stderr",
     "output_type": "stream",
     "text": [
      "100%|██████████| 1/1 [00:02<00:00,  2.31s/it]\n",
      "Downloading config.json: 3.40kB [00:00, 4.57MB/s]\n",
      "Downloading checkpoint.pth: 100%|██████████| 208M/208M [00:19<00:00, 10.5MB/s] \n"
     ]
    },
    {
     "name": "stdout",
     "output_type": "stream",
     "text": [
      " > Text split to sentences.\n",
      "La lueur dorée du soleil caresse les vagues, peignant le ciel d'une palette éblouissante.\n",
      " > ===========================\n"
     ]
    },
    {
     "name": "stderr",
     "output_type": "stream",
     "text": [
      "Downloading pytorch_model.bin: 100%|██████████| 445M/445M [00:42<00:00, 10.4MB/s]\n",
      "Some weights of the model checkpoint at dbmdz/bert-base-french-europeana-cased were not used when initializing BertForMaskedLM: ['cls.seq_relationship.bias', 'cls.seq_relationship.weight']\n",
      "- This IS expected if you are initializing BertForMaskedLM from the checkpoint of a model trained on another task or with another architecture (e.g. initializing a BertForSequenceClassification model from a BertForPreTraining model).\n",
      "- This IS NOT expected if you are initializing BertForMaskedLM from the checkpoint of a model that you expect to be exactly identical (initializing a BertForSequenceClassification model from a BertForSequenceClassification model).\n",
      "100%|██████████| 1/1 [00:46<00:00, 46.72s/it]\n",
      "Downloading config.json: 2.30kB [00:00, 3.91MB/s]\n",
      "Downloading checkpoint.pth: 100%|██████████| 208M/208M [00:19<00:00, 10.4MB/s] \n"
     ]
    },
    {
     "name": "stdout",
     "output_type": "stream",
     "text": [
      " > Text split to sentences.\n",
      "在这次vacation中,\n",
      "我们计划去Paris欣赏埃菲尔铁塔和卢浮宫的美景.\n",
      " > ===========================\n"
     ]
    },
    {
     "name": "stderr",
     "output_type": "stream",
     "text": [
      "  0%|          | 0/2 [00:00<?, ?it/s]Building prefix dict from the default dictionary ...\n",
      "Dumping model to file cache /var/folders/pd/p0r9tg_n12vf_384ghbm53z80000gn/T/jieba.cache\n",
      "Loading model cost 0.297 seconds.\n",
      "Prefix dict has been built successfully.\n",
      "Downloading pytorch_model.bin: 100%|██████████| 672M/672M [01:05<00:00, 10.3MB/s]\n",
      "Some weights of the model checkpoint at bert-base-multilingual-uncased were not used when initializing BertForMaskedLM: ['cls.seq_relationship.bias', 'cls.seq_relationship.weight']\n",
      "- This IS expected if you are initializing BertForMaskedLM from the checkpoint of a model trained on another task or with another architecture (e.g. initializing a BertForSequenceClassification model from a BertForPreTraining model).\n",
      "- This IS NOT expected if you are initializing BertForMaskedLM from the checkpoint of a model that you expect to be exactly identical (initializing a BertForSequenceClassification model from a BertForSequenceClassification model).\n",
      "100%|██████████| 2/2 [01:11<00:00, 35.61s/it]\n",
      "Downloading config.json: 3.43kB [00:00, 3.59MB/s]\n",
      "Downloading checkpoint.pth: 100%|██████████| 208M/208M [00:19<00:00, 10.5MB/s] \n"
     ]
    },
    {
     "name": "stdout",
     "output_type": "stream",
     "text": [
      " > Text split to sentences.\n",
      "彼は毎朝ジョギングをして体を健康に保っています.\n",
      " > ===========================\n"
     ]
    },
    {
     "name": "stderr",
     "output_type": "stream",
     "text": [
      "100%|██████████| 1/1 [00:01<00:00,  1.61s/it]\n",
      "Downloading config.json: 3.40kB [00:00, 4.56MB/s]\n",
      "Downloading checkpoint.pth: 100%|██████████| 208M/208M [00:19<00:00, 10.4MB/s] \n"
     ]
    },
    {
     "name": "stdout",
     "output_type": "stream",
     "text": [
      " > Text split to sentences.\n",
      "안녕하세요! 오늘은 날씨가 정말 좋네요.\n",
      " > ===========================\n"
     ]
    },
    {
     "name": "stderr",
     "output_type": "stream",
     "text": [
      "  0%|          | 0/1 [00:00<?, ?it/s]"
     ]
    },
    {
     "name": "stdout",
     "output_type": "stream",
     "text": [
      "you have to install python-mecab-ko. install it...\n",
      "huggingface/tokenizers: The current process just got forked, after parallelism has already been used. Disabling parallelism to avoid deadlocks...\n",
      "To disable this warning, you can either:\n",
      "\t- Avoid using `tokenizers` before the fork if possible\n",
      "\t- Explicitly set the environment variable TOKENIZERS_PARALLELISM=(true | false)\n",
      "Collecting python-mecab-ko\n",
      "  Downloading python_mecab_ko-1.3.7-cp39-cp39-macosx_11_0_arm64.whl.metadata (3.4 kB)\n",
      "Collecting python-mecab-ko-dic (from python-mecab-ko)\n",
      "  Using cached python_mecab_ko_dic-2.1.1.post2-py3-none-any.whl.metadata (1.4 kB)\n",
      "Downloading python_mecab_ko-1.3.7-cp39-cp39-macosx_11_0_arm64.whl (349 kB)\n",
      "Using cached python_mecab_ko_dic-2.1.1.post2-py3-none-any.whl (34.5 MB)\n",
      "Installing collected packages: python-mecab-ko-dic, python-mecab-ko\n",
      "\u001b[2K   \u001b[90m━━━━━━━━━━━━━━━━━━━━━━━━━━━━━━━━━━━━━━━━\u001b[0m \u001b[32m2/2\u001b[0m [python-mecab-ko]dic]\n",
      "\u001b[1A\u001b[2KSuccessfully installed python-mecab-ko-1.3.7 python-mecab-ko-dic-2.1.1.post2\n",
      "you have to install python-mecab-ko. \"pip install python-mecab-ko\"\n"
     ]
    },
    {
     "name": "stderr",
     "output_type": "stream",
     "text": [
      "  0%|          | 0/1 [00:05<?, ?it/s]\n"
     ]
    },
    {
     "ename": "AttributeError",
     "evalue": "'NoneType' object has no attribute 'pos'",
     "output_type": "error",
     "traceback": [
      "\u001b[0;31m---------------------------------------------------------------------------\u001b[0m",
      "\u001b[0;31mAttributeError\u001b[0m                            Traceback (most recent call last)",
      "Cell \u001b[0;32mIn[9], line 30\u001b[0m\n\u001b[1;32m     28\u001b[0m \u001b[38;5;28;01mif\u001b[39;00m torch\u001b[38;5;241m.\u001b[39mbackends\u001b[38;5;241m.\u001b[39mmps\u001b[38;5;241m.\u001b[39mis_available() \u001b[38;5;129;01mand\u001b[39;00m device \u001b[38;5;241m==\u001b[39m \u001b[38;5;124m'\u001b[39m\u001b[38;5;124mcpu\u001b[39m\u001b[38;5;124m'\u001b[39m:\n\u001b[1;32m     29\u001b[0m     torch\u001b[38;5;241m.\u001b[39mbackends\u001b[38;5;241m.\u001b[39mmps\u001b[38;5;241m.\u001b[39mis_available \u001b[38;5;241m=\u001b[39m \u001b[38;5;28;01mlambda\u001b[39;00m: \u001b[38;5;28;01mFalse\u001b[39;00m\n\u001b[0;32m---> 30\u001b[0m \u001b[43mmodel\u001b[49m\u001b[38;5;241;43m.\u001b[39;49m\u001b[43mtts_to_file\u001b[49m\u001b[43m(\u001b[49m\u001b[43mtext\u001b[49m\u001b[43m,\u001b[49m\u001b[43m \u001b[49m\u001b[43mspeaker_id\u001b[49m\u001b[43m,\u001b[49m\u001b[43m \u001b[49m\u001b[43msrc_path\u001b[49m\u001b[43m,\u001b[49m\u001b[43m \u001b[49m\u001b[43mspeed\u001b[49m\u001b[38;5;241;43m=\u001b[39;49m\u001b[43mspeed\u001b[49m\u001b[43m)\u001b[49m\n\u001b[1;32m     31\u001b[0m save_path \u001b[38;5;241m=\u001b[39m \u001b[38;5;124mf\u001b[39m\u001b[38;5;124m'\u001b[39m\u001b[38;5;132;01m{\u001b[39;00moutput_dir\u001b[38;5;132;01m}\u001b[39;00m\u001b[38;5;124m/output_v2_\u001b[39m\u001b[38;5;132;01m{\u001b[39;00mspeaker_key\u001b[38;5;132;01m}\u001b[39;00m\u001b[38;5;124m.wav\u001b[39m\u001b[38;5;124m'\u001b[39m\n\u001b[1;32m     33\u001b[0m \u001b[38;5;66;03m# Run the tone color converter\u001b[39;00m\n",
      "File \u001b[0;32m~/miniforge3/envs/openvoice/lib/python3.9/site-packages/melo/api.py:100\u001b[0m, in \u001b[0;36mTTS.tts_to_file\u001b[0;34m(self, text, speaker_id, output_path, sdp_ratio, noise_scale, noise_scale_w, speed, pbar, format, position, quiet)\u001b[0m\n\u001b[1;32m     98\u001b[0m     t \u001b[38;5;241m=\u001b[39m re\u001b[38;5;241m.\u001b[39msub(\u001b[38;5;124mr\u001b[39m\u001b[38;5;124m'\u001b[39m\u001b[38;5;124m([a-z])([A-Z])\u001b[39m\u001b[38;5;124m'\u001b[39m, \u001b[38;5;124mr\u001b[39m\u001b[38;5;124m'\u001b[39m\u001b[38;5;124m\\\u001b[39m\u001b[38;5;124m1 \u001b[39m\u001b[38;5;124m\\\u001b[39m\u001b[38;5;124m2\u001b[39m\u001b[38;5;124m'\u001b[39m, t)\n\u001b[1;32m     99\u001b[0m device \u001b[38;5;241m=\u001b[39m \u001b[38;5;28mself\u001b[39m\u001b[38;5;241m.\u001b[39mdevice\n\u001b[0;32m--> 100\u001b[0m bert, ja_bert, phones, tones, lang_ids \u001b[38;5;241m=\u001b[39m \u001b[43mutils\u001b[49m\u001b[38;5;241;43m.\u001b[39;49m\u001b[43mget_text_for_tts_infer\u001b[49m\u001b[43m(\u001b[49m\u001b[43mt\u001b[49m\u001b[43m,\u001b[49m\u001b[43m \u001b[49m\u001b[43mlanguage\u001b[49m\u001b[43m,\u001b[49m\u001b[43m \u001b[49m\u001b[38;5;28;43mself\u001b[39;49m\u001b[38;5;241;43m.\u001b[39;49m\u001b[43mhps\u001b[49m\u001b[43m,\u001b[49m\u001b[43m \u001b[49m\u001b[43mdevice\u001b[49m\u001b[43m,\u001b[49m\u001b[43m \u001b[49m\u001b[38;5;28;43mself\u001b[39;49m\u001b[38;5;241;43m.\u001b[39;49m\u001b[43msymbol_to_id\u001b[49m\u001b[43m)\u001b[49m\n\u001b[1;32m    101\u001b[0m \u001b[38;5;28;01mwith\u001b[39;00m torch\u001b[38;5;241m.\u001b[39mno_grad():\n\u001b[1;32m    102\u001b[0m     x_tst \u001b[38;5;241m=\u001b[39m phones\u001b[38;5;241m.\u001b[39mto(device)\u001b[38;5;241m.\u001b[39munsqueeze(\u001b[38;5;241m0\u001b[39m)\n",
      "File \u001b[0;32m~/miniforge3/envs/openvoice/lib/python3.9/site-packages/melo/utils.py:23\u001b[0m, in \u001b[0;36mget_text_for_tts_infer\u001b[0;34m(text, language_str, hps, device, symbol_to_id)\u001b[0m\n\u001b[1;32m     22\u001b[0m \u001b[38;5;28;01mdef\u001b[39;00m\u001b[38;5;250m \u001b[39m\u001b[38;5;21mget_text_for_tts_infer\u001b[39m(text, language_str, hps, device, symbol_to_id\u001b[38;5;241m=\u001b[39m\u001b[38;5;28;01mNone\u001b[39;00m):\n\u001b[0;32m---> 23\u001b[0m     norm_text, phone, tone, word2ph \u001b[38;5;241m=\u001b[39m \u001b[43mclean_text\u001b[49m\u001b[43m(\u001b[49m\u001b[43mtext\u001b[49m\u001b[43m,\u001b[49m\u001b[43m \u001b[49m\u001b[43mlanguage_str\u001b[49m\u001b[43m)\u001b[49m\n\u001b[1;32m     24\u001b[0m     phone, tone, language \u001b[38;5;241m=\u001b[39m cleaned_text_to_sequence(phone, tone, language_str, symbol_to_id)\n\u001b[1;32m     26\u001b[0m     \u001b[38;5;28;01mif\u001b[39;00m hps\u001b[38;5;241m.\u001b[39mdata\u001b[38;5;241m.\u001b[39madd_blank:\n",
      "File \u001b[0;32m~/miniforge3/envs/openvoice/lib/python3.9/site-packages/melo/text/cleaner.py:12\u001b[0m, in \u001b[0;36mclean_text\u001b[0;34m(text, language)\u001b[0m\n\u001b[1;32m     10\u001b[0m language_module \u001b[38;5;241m=\u001b[39m language_module_map[language]\n\u001b[1;32m     11\u001b[0m norm_text \u001b[38;5;241m=\u001b[39m language_module\u001b[38;5;241m.\u001b[39mtext_normalize(text)\n\u001b[0;32m---> 12\u001b[0m phones, tones, word2ph \u001b[38;5;241m=\u001b[39m \u001b[43mlanguage_module\u001b[49m\u001b[38;5;241;43m.\u001b[39;49m\u001b[43mg2p\u001b[49m\u001b[43m(\u001b[49m\u001b[43mnorm_text\u001b[49m\u001b[43m)\u001b[49m\n\u001b[1;32m     13\u001b[0m \u001b[38;5;28;01mreturn\u001b[39;00m norm_text, phones, tones, word2ph\n",
      "File \u001b[0;32m~/miniforge3/envs/openvoice/lib/python3.9/site-packages/melo/text/korean.py:122\u001b[0m, in \u001b[0;36mg2p\u001b[0;34m(norm_text)\u001b[0m\n\u001b[1;32m    118\u001b[0m     \u001b[38;5;28;01mcontinue\u001b[39;00m\n\u001b[1;32m    119\u001b[0m \u001b[38;5;66;03m# import pdb; pdb.set_trace()\u001b[39;00m\n\u001b[1;32m    120\u001b[0m \u001b[38;5;66;03m# phonemes = japanese_text_to_phonemes(text)\u001b[39;00m\n\u001b[1;32m    121\u001b[0m \u001b[38;5;66;03m# text = g2p_kr(text)\u001b[39;00m\n\u001b[0;32m--> 122\u001b[0m phonemes \u001b[38;5;241m=\u001b[39m \u001b[43mkorean_text_to_phonemes\u001b[49m\u001b[43m(\u001b[49m\u001b[43mtext\u001b[49m\u001b[43m)\u001b[49m\n\u001b[1;32m    123\u001b[0m \u001b[38;5;66;03m# import pdb; pdb.set_trace()\u001b[39;00m\n\u001b[1;32m    124\u001b[0m \u001b[38;5;66;03m# # phonemes = [i for i in phonemes if i in symbols]\u001b[39;00m\n\u001b[1;32m    125\u001b[0m \u001b[38;5;66;03m# for i in phonemes:\u001b[39;00m\n\u001b[1;32m    126\u001b[0m \u001b[38;5;66;03m#     assert i in symbols, (group, norm_text, tokenized, i)\u001b[39;00m\n\u001b[1;32m    127\u001b[0m phone_len \u001b[38;5;241m=\u001b[39m \u001b[38;5;28mlen\u001b[39m(phonemes)\n",
      "File \u001b[0;32m~/miniforge3/envs/openvoice/lib/python3.9/site-packages/melo/text/korean.py:69\u001b[0m, in \u001b[0;36mkorean_text_to_phonemes\u001b[0;34m(text, character)\u001b[0m\n\u001b[1;32m     66\u001b[0m     \u001b[38;5;28;01mreturn\u001b[39;00m text\n\u001b[1;32m     68\u001b[0m text \u001b[38;5;241m=\u001b[39m normalize(text)\n\u001b[0;32m---> 69\u001b[0m text \u001b[38;5;241m=\u001b[39m \u001b[43mg2p_kr\u001b[49m\u001b[43m(\u001b[49m\u001b[43mtext\u001b[49m\u001b[43m)\u001b[49m\n\u001b[1;32m     70\u001b[0m text \u001b[38;5;241m=\u001b[39m \u001b[38;5;28mlist\u001b[39m(hangul_to_jamo(text))  \u001b[38;5;66;03m# '하늘' --> ['ᄒ', 'ᅡ', 'ᄂ', 'ᅳ', 'ᆯ']\u001b[39;00m\n\u001b[1;32m     71\u001b[0m \u001b[38;5;28;01mreturn\u001b[39;00m \u001b[38;5;124m\"\u001b[39m\u001b[38;5;124m\"\u001b[39m\u001b[38;5;241m.\u001b[39mjoin(text)\n",
      "File \u001b[0;32m~/miniforge3/envs/openvoice/lib/python3.9/site-packages/g2pkk/g2pkk.py:129\u001b[0m, in \u001b[0;36mG2p.__call__\u001b[0;34m(self, string, descriptive, verbose, group_vowels, to_syl)\u001b[0m\n\u001b[1;32m    126\u001b[0m string \u001b[38;5;241m=\u001b[39m convert_eng(string, \u001b[38;5;28mself\u001b[39m\u001b[38;5;241m.\u001b[39mcmu)\n\u001b[1;32m    128\u001b[0m \u001b[38;5;66;03m# 3. annotate\u001b[39;00m\n\u001b[0;32m--> 129\u001b[0m string \u001b[38;5;241m=\u001b[39m \u001b[43mannotate\u001b[49m\u001b[43m(\u001b[49m\u001b[43mstring\u001b[49m\u001b[43m,\u001b[49m\u001b[43m \u001b[49m\u001b[38;5;28;43mself\u001b[39;49m\u001b[38;5;241;43m.\u001b[39;49m\u001b[43mmecab\u001b[49m\u001b[43m)\u001b[49m\n\u001b[1;32m    132\u001b[0m \u001b[38;5;66;03m# 4. Spell out arabic numbers\u001b[39;00m\n\u001b[1;32m    133\u001b[0m string \u001b[38;5;241m=\u001b[39m convert_num(string)\n",
      "File \u001b[0;32m~/miniforge3/envs/openvoice/lib/python3.9/site-packages/g2pkk/utils.py:166\u001b[0m, in \u001b[0;36mannotate\u001b[0;34m(string, mecab)\u001b[0m\n\u001b[1;32m    165\u001b[0m \u001b[38;5;28;01mdef\u001b[39;00m\u001b[38;5;250m \u001b[39m\u001b[38;5;21mannotate\u001b[39m(string, mecab):\n\u001b[0;32m--> 166\u001b[0m     tokens \u001b[38;5;241m=\u001b[39m \u001b[43mmecab\u001b[49m\u001b[38;5;241;43m.\u001b[39;49m\u001b[43mpos\u001b[49m(string)\n\u001b[1;32m    167\u001b[0m     \u001b[38;5;28;01mif\u001b[39;00m string\u001b[38;5;241m.\u001b[39mreplace(\u001b[38;5;124m\"\u001b[39m\u001b[38;5;124m \u001b[39m\u001b[38;5;124m\"\u001b[39m, \u001b[38;5;124m\"\u001b[39m\u001b[38;5;124m\"\u001b[39m) \u001b[38;5;241m!=\u001b[39m \u001b[38;5;124m\"\u001b[39m\u001b[38;5;124m\"\u001b[39m\u001b[38;5;241m.\u001b[39mjoin(token \u001b[38;5;28;01mfor\u001b[39;00m token, _ \u001b[38;5;129;01min\u001b[39;00m tokens):\n\u001b[1;32m    168\u001b[0m         \u001b[38;5;28;01mreturn\u001b[39;00m string\n",
      "\u001b[0;31mAttributeError\u001b[0m: 'NoneType' object has no attribute 'pos'"
     ]
    }
   ],
   "source": [
    "from melo.api import TTS\n",
    "\n",
    "texts = {\n",
    "    'EN_NEWEST': \"Did you ever hear a folk tale about a giant turtle?\",  # The newest English base speaker model\n",
    "    'EN': \"Did you ever hear a folk tale about a giant turtle?\",\n",
    "    'ES': \"El resplandor del sol acaricia las olas, pintando el cielo con una paleta deslumbrante.\",\n",
    "    'FR': \"La lueur dorée du soleil caresse les vagues, peignant le ciel d'une palette éblouissante.\",\n",
    "    'ZH': \"在这次vacation中，我们计划去Paris欣赏埃菲尔铁塔和卢浮宫的美景。\",\n",
    "    'JP': \"彼は毎朝ジョギングをして体を健康に保っています。\",\n",
    "    'KR': \"안녕하세요! 오늘은 날씨가 정말 좋네요.\",\n",
    "}\n",
    "\n",
    "\n",
    "src_path = f'{output_dir}/tmp.wav'\n",
    "\n",
    "# Speed is adjustable\n",
    "speed = 1.0\n",
    "\n",
    "for language, text in texts.items():\n",
    "    model = TTS(language=language, device=device)\n",
    "    speaker_ids = model.hps.data.spk2id\n",
    "    \n",
    "    for speaker_key in speaker_ids.keys():\n",
    "        speaker_id = speaker_ids[speaker_key]\n",
    "        speaker_key = speaker_key.lower().replace('_', '-')\n",
    "        \n",
    "        source_se = torch.load(f'checkpoints_v2/base_speakers/ses/{speaker_key}.pth', map_location=device)\n",
    "        if torch.backends.mps.is_available() and device == 'cpu':\n",
    "            torch.backends.mps.is_available = lambda: False\n",
    "        model.tts_to_file(text, speaker_id, src_path, speed=speed)\n",
    "        save_path = f'{output_dir}/output_v2_{speaker_key}.wav'\n",
    "\n",
    "        # Run the tone color converter\n",
    "        encode_message = \"@MyShell\"\n",
    "        tone_color_converter.convert(\n",
    "            audio_src_path=src_path, \n",
    "            src_se=source_se, \n",
    "            tgt_se=target_se, \n",
    "            output_path=save_path,\n",
    "            message=encode_message)"
   ]
  }
 ],
 "metadata": {
  "kernelspec": {
   "display_name": "openvoice",
   "language": "python",
   "name": "python3"
  },
  "language_info": {
   "codemirror_mode": {
    "name": "ipython",
    "version": 3
   },
   "file_extension": ".py",
   "mimetype": "text/x-python",
   "name": "python",
   "nbconvert_exporter": "python",
   "pygments_lexer": "ipython3",
   "version": "3.9.23"
  }
 },
 "nbformat": 4,
 "nbformat_minor": 2
}
